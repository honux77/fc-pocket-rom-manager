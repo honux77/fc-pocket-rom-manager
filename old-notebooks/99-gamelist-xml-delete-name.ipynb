{
 "cells": [
  {
   "cell_type": "markdown",
   "metadata": {},
   "source": [
    "# 영문 리스트를 위해 타이틀 삭제하기"
   ]
  },
  {
   "cell_type": "markdown",
   "metadata": {},
   "source": [
    "## Setup"
   ]
  },
  {
   "cell_type": "code",
   "execution_count": 22,
   "metadata": {},
   "outputs": [],
   "source": [
    "dname='nes'\n",
    "exts=['.zip', '.chd', '.m3u', '.dsk', '.fds'] \n",
    "xmlfile = 'gamelist.xml'\n",
    "xmlfile_en = 'gamelist_en.xml'\n",
    "rdir = '/home/pi/roms/' + dname\n",
    "root = \"D:\\Retropie\"\n",
    "imgPath = \"./box\"\n",
    "videoPath = \"./video\""
   ]
  },
  {
   "cell_type": "code",
   "execution_count": 23,
   "metadata": {},
   "outputs": [
    {
     "name": "stdout",
     "output_type": "stream",
     "text": [
      "Current DIr:  D:\\Retropie\\nes\n"
     ]
    }
   ],
   "source": [
    "import os\n",
    "os.chdir(os.path.join(root,dname))\n",
    "print(\"Current DIr: \", os.getcwd())"
   ]
  },
  {
   "cell_type": "markdown",
   "metadata": {},
   "source": [
    "## open xml "
   ]
  },
  {
   "cell_type": "code",
   "execution_count": 24,
   "metadata": {},
   "outputs": [],
   "source": [
    "import xml.etree.ElementTree as ET\n",
    "tree = ET.parse(xmlfile)\n",
    "games = tree.getroot()"
   ]
  },
  {
   "cell_type": "code",
   "execution_count": 25,
   "metadata": {},
   "outputs": [
    {
     "name": "stdout",
     "output_type": "stream",
     "text": [
      "nes 안의 게임수: 84\n"
     ]
    }
   ],
   "source": [
    "print(dname, \"안의 게임수:\", len(games))"
   ]
  },
  {
   "cell_type": "markdown",
   "metadata": {},
   "source": [
    "## 타이틀 삭제하기"
   ]
  },
  {
   "cell_type": "code",
   "execution_count": 26,
   "metadata": {},
   "outputs": [
    {
     "name": "stdout",
     "output_type": "stream",
     "text": [
      "다운타운 열혈 이야기 (J)\n",
      "드래곤볼 Z 강습 샤이아인 (K)\n",
      "벌룬 파이트 (JU)\n",
      "캡틴 츠바사 2 슈퍼 스트라이커 (J)\n",
      "캐슬바니아 3 드라큘라의 저주 (E)\n",
      "서커스 찰리 (J)\n",
      "혼두라 (U)\n",
      "동키콩 (JU)\n",
      "동키콩 주니어 (JU)\n",
      "더블 드래곤 (E)\n",
      "더블 드래곤 2 (U)\n",
      "더블 드래곤 3 (U)\n",
      "엘리베이터 액션 (U)\n",
      "익사이트 바이크 (JU)\n",
      "엑스리온 (J)\n",
      "파이널 판타지 3 (J)\n",
      "파이어 엠블렘 (J)\n",
      "파이어 엠블렘 외전 (J)\n",
      "북두의 권 (U)\n",
      "마계촌 (U)\n",
      "허드슨의 모험도 (3)\n",
      "아이스 클라이머 (U)\n",
      "키드 이카루스 (UE)\n",
      "키드니키 (U)\n",
      "쿵푸 (U)\n",
      "젤다의 전설 (U)\n",
      "루팡 3세 판도라의 유산 (J)\n",
      "록맨 5 (K)\n",
      "록맨 6 (K)\n",
      "메탈 기어 (E)\n",
      "메탈기어 2\n",
      "메트로이드 (E)\n",
      "닌자 가이덴 (U)\n",
      "닌자 가이덴 2 (U)\n",
      "닌자 가이덴 3 (U)\n",
      "팩맨 (U)\n",
      "큐버트 (U)\n",
      "드루아가의 탑 (J)\n",
      "허드슨의 모험도 (U)\n",
      "슈퍼 마리오 브라더스 (W)\n",
      "드래곤볼 3 오공전 (K)\n",
      "별의 커비 꿈의 샘 이야기 (K)\n",
      "드래곤볼 Z 외전 (K)\n",
      "마더 (J)\n",
      "열혈경파 쿠니오군 (J)\n",
      "마이크 타이슨의 펀치 아웃 (E)\n",
      "열혈고교 피구부 (J)\n",
      "열혈축구 (J)\n",
      "로드 파이터 (E)\n",
      "닥터 마리오 (E)\n",
      "마이티 파이널 파이트 (K)\n",
      "칩과 데일의 다람쥐 구조대\n",
      "버블 보블 (E)\n",
      "솔로몬의 열쇠 (U)\n",
      "핀볼 (E)\n",
      "슈퍼 마리오 브라더스 3 (U)\n",
      "마리오 브라더스 (U)\n",
      "슈퍼 마리오 브라더스 2 (E)\n",
      "열혈격투전설 (J)\n",
      "남극탐험 (J)\n",
      "드래곤볼Z 2 (K)\n",
      "로드러너 (U)\n",
      "드래곤 퀘스트 4 (U)\n",
      "드래곤 퀘스트 4  인도하는 자들 (J)\n",
      "SD 건담 가챠폰 전사 2 캡슐전기 (J)\n",
      "SD 건담 가챠폰 전사 3 영웅전기 (J)\n",
      "SD 건담 가챠폰 전사 4 뉴타입 스토리 (J)\n",
      "SD 건담 가챠폰 전사 5 유니버설 센츄리 (J)\n",
      "테트리스 (U)\n",
      "건 스모크 (U)\n",
      "드래곤 슬레이어 4 드라슬리 패밀리 (J)\n",
      "라그랑쥬 포인트 (E)\n",
      "라그랑쥬 포인트 (J)\n",
      "크라이시스 포스 (J)\n",
      "매니악 맨션 (U)\n",
      "근육맨 머슬 태그매치 (J)\n",
      "240P 테스트 프로그램\n",
      "드래곤볼 Z 3 (K)\n",
      "스키냐 죽음이냐\n",
      "성령전설 리클 (K)\n",
      "배틀 시티 (J)\n",
      "파맨 원반을 되찾아라 (J)\n",
      "젤다 2 링크의 모험 (U)\n",
      "그린 베레 (J)\n"
     ]
    }
   ],
   "source": [
    "for game in games:\n",
    "    name = game.find('name')          \n",
    "    if name != None:\n",
    "        print(name.text)\n",
    "        game.remove(name)     \n"
   ]
  },
  {
   "cell_type": "code",
   "execution_count": 27,
   "metadata": {},
   "outputs": [
    {
     "data": {
      "text/plain": [
       "84"
      ]
     },
     "execution_count": 27,
     "metadata": {},
     "output_type": "execute_result"
    }
   ],
   "source": [
    "len(games)"
   ]
  },
  {
   "cell_type": "code",
   "execution_count": 28,
   "metadata": {},
   "outputs": [],
   "source": [
    "tree.write(xmlfile_en, 'UTF-8')"
   ]
  },
  {
   "cell_type": "code",
   "execution_count": null,
   "metadata": {},
   "outputs": [],
   "source": []
  }
 ],
 "metadata": {
  "kernelspec": {
   "display_name": "Python 3 (ipykernel)",
   "language": "python",
   "name": "python3"
  },
  "language_info": {
   "codemirror_mode": {
    "name": "ipython",
    "version": 3
   },
   "file_extension": ".py",
   "mimetype": "text/x-python",
   "name": "python",
   "nbconvert_exporter": "python",
   "pygments_lexer": "ipython3",
   "version": "3.11.3"
  },
  "vscode": {
   "interpreter": {
    "hash": "63051b48e7e8e53c575aaa6aaf27b60c9dff9cf5557ed511cfd339670f583172"
   }
  }
 },
 "nbformat": 4,
 "nbformat_minor": 2
}
