{
 "cells": [
  {
   "cell_type": "markdown",
   "metadata": {},
   "source": [
    "## 이미지 -image 접미사 제거하기"
   ]
  },
  {
   "cell_type": "code",
   "execution_count": 1,
   "metadata": {},
   "outputs": [],
   "source": [
    "root = \"d:\\Retropie\"\n",
    "dirs = [\n",
    "    \"pcengine\",\n",
    "]\n",
    "isrc = \"box\"\n",
    "itarget = isrc"
   ]
  },
  {
   "cell_type": "code",
   "execution_count": 2,
   "metadata": {},
   "outputs": [],
   "source": [
    "def rename(dname, postfix):\n",
    "    os.chdir(dname)\n",
    "    files = [f for f in os.listdir() if postfix in f]\n",
    "    print(\"Found {} -{} files\".format(len(files), postfix))\n",
    "    for file in files:\n",
    "        print(\"rename \" + file)\n",
    "        newName = file.replace(\"-\" + postfix, \"\")\n",
    "        os.rename(file, newName)\n",
    "    os.chdir(\"../\")"
   ]
  },
  {
   "cell_type": "code",
   "execution_count": 3,
   "metadata": {},
   "outputs": [
    {
     "name": "stdout",
     "output_type": "stream",
     "text": [
      "Current dir: d:\\Retropie\\pcengine\n",
      "Found 0 -image files\n"
     ]
    }
   ],
   "source": [
    "import os\n",
    "for dir in dirs:\n",
    "    path = os.path.join(root,dir)\n",
    "    os.chdir(path) \n",
    "    print(\"Current dir: \" + os.getcwd())\n",
    "    rename(isrc, \"image\")\n"
   ]
  },
  {
   "cell_type": "code",
   "execution_count": null,
   "metadata": {},
   "outputs": [],
   "source": []
  }
 ],
 "metadata": {
  "kernelspec": {
   "display_name": "Python 3 (ipykernel)",
   "language": "python",
   "name": "python3"
  },
  "language_info": {
   "codemirror_mode": {
    "name": "ipython",
    "version": 3
   },
   "file_extension": ".py",
   "mimetype": "text/x-python",
   "name": "python",
   "nbconvert_exporter": "python",
   "pygments_lexer": "ipython3",
   "version": "3.11.3"
  }
 },
 "nbformat": 4,
 "nbformat_minor": 4
}
