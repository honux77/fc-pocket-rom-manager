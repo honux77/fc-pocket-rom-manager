{
 "cells": [
  {
   "cell_type": "code",
   "execution_count": 2,
   "metadata": {},
   "outputs": [],
   "source": [
    "import os\n",
    "import xml.etree.ElementTree as ET\n",
    "from config import Config\n",
    "cfg = Config()"
   ]
  },
  {
   "cell_type": "code",
   "execution_count": 3,
   "metadata": {},
   "outputs": [],
   "source": [
    "currPath = os.getcwd()\n",
    "os.chdir(cfg.getBasePath())"
   ]
  },
  {
   "cell_type": "code",
   "execution_count": 4,
   "metadata": {},
   "outputs": [],
   "source": [
    "\n",
    "tree= ET.parse('fbneo/game.xml')\n",
    "root = tree.getroot()"
   ]
  },
  {
   "cell_type": "code",
   "execution_count": 5,
   "metadata": {},
   "outputs": [
    {
     "ename": "AttributeError",
     "evalue": "'NoneType' object has no attribute 'text'",
     "output_type": "error",
     "traceback": [
      "\u001b[1;31m---------------------------------------------------------------------------\u001b[0m",
      "\u001b[1;31mAttributeError\u001b[0m                            Traceback (most recent call last)",
      "\u001b[1;32mc:\\Users\\k5020\\projects\\fc-pocket-rom-manager\\src\\test-xml.ipynb 셀 4\u001b[0m line \u001b[0;36m6\n\u001b[0;32m      <a href='vscode-notebook-cell:/c%3A/Users/k5020/projects/fc-pocket-rom-manager/src/test-xml.ipynb#W3sZmlsZQ%3D%3D?line=3'>4</a>\u001b[0m name \u001b[39m=\u001b[39m game\u001b[39m.\u001b[39mattrib[\u001b[39m'\u001b[39m\u001b[39mname\u001b[39m\u001b[39m'\u001b[39m]\n\u001b[0;32m      <a href='vscode-notebook-cell:/c%3A/Users/k5020/projects/fc-pocket-rom-manager/src/test-xml.ipynb#W3sZmlsZQ%3D%3D?line=4'>5</a>\u001b[0m filename \u001b[39m=\u001b[39m game\u001b[39m.\u001b[39mfind(\u001b[39m'\u001b[39m\u001b[39mrom\u001b[39m\u001b[39m'\u001b[39m)\u001b[39m.\u001b[39mattrib[\u001b[39m'\u001b[39m\u001b[39mname\u001b[39m\u001b[39m'\u001b[39m]\n\u001b[1;32m----> <a href='vscode-notebook-cell:/c%3A/Users/k5020/projects/fc-pocket-rom-manager/src/test-xml.ipynb#W3sZmlsZQ%3D%3D?line=5'>6</a>\u001b[0m desc \u001b[39m=\u001b[39m game\u001b[39m.\u001b[39;49mfind(\u001b[39m'\u001b[39;49m\u001b[39mdescription\u001b[39;49m\u001b[39m'\u001b[39;49m)\u001b[39m.\u001b[39;49mtext\n\u001b[0;32m      <a href='vscode-notebook-cell:/c%3A/Users/k5020/projects/fc-pocket-rom-manager/src/test-xml.ipynb#W3sZmlsZQ%3D%3D?line=6'>7</a>\u001b[0m games\u001b[39m.\u001b[39mappend({\u001b[39m'\u001b[39m\u001b[39mname\u001b[39m\u001b[39m'\u001b[39m: name, \u001b[39m'\u001b[39m\u001b[39mfilename\u001b[39m\u001b[39m'\u001b[39m: filename, \u001b[39m'\u001b[39m\u001b[39mdesc\u001b[39m\u001b[39m'\u001b[39m: desc})\n",
      "\u001b[1;31mAttributeError\u001b[0m: 'NoneType' object has no attribute 'text'"
     ]
    }
   ],
   "source": [
    "gameNodes = root.findall('game')\n",
    "games = []\n",
    "for game in gameNodes:\n",
    "    name = game.attrib['name']\n",
    "    filename = game.find('rom').attrib['name']    \n",
    "    desc = game.find('description').text if game.find('description') is not None else f\"Description for {name} \"    \n",
    "    games.append({'name': name, 'filename': filename, 'desc': desc})"
   ]
  },
  {
   "cell_type": "code",
   "execution_count": null,
   "metadata": {},
   "outputs": [],
   "source": []
  }
 ],
 "metadata": {
  "kernelspec": {
   "display_name": "Python 3",
   "language": "python",
   "name": "python3"
  },
  "language_info": {
   "codemirror_mode": {
    "name": "ipython",
    "version": 3
   },
   "file_extension": ".py",
   "mimetype": "text/x-python",
   "name": "python",
   "nbconvert_exporter": "python",
   "pygments_lexer": "ipython3",
   "version": "3.11.3"
  }
 },
 "nbformat": 4,
 "nbformat_minor": 2
}
