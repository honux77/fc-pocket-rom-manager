{
 "cells": [
  {
   "cell_type": "markdown",
   "metadata": {},
   "source": [
    "# 영문 리스트를 위해 타이틀 삭제하기"
   ]
  },
  {
   "cell_type": "markdown",
   "metadata": {},
   "source": [
    "## Setup"
   ]
  },
  {
   "cell_type": "code",
   "execution_count": 1,
   "metadata": {},
   "outputs": [],
   "source": [
    "dname='msx2'\n",
    "exts=['.zip', '.chd', '.m3u', '.dsk', '.fds'] \n",
    "xmlfile = 'gamelist.xml'\n",
    "xmlfile_test = 'gamelist_test.xml'\n",
    "rdir = '/home/pi/roms/' + dname\n",
    "root = \"D:\\Retropie\"\n",
    "imgPath = \"./box\"\n",
    "videoPath = \"./video\""
   ]
  },
  {
   "cell_type": "code",
   "execution_count": 2,
   "metadata": {},
   "outputs": [
    {
     "name": "stdout",
     "output_type": "stream",
     "text": [
      "Current DIr:  D:\\Retropie\\msx2\n"
     ]
    }
   ],
   "source": [
    "import os\n",
    "os.chdir(os.path.join(root,dname))\n",
    "print(\"Current DIr: \", os.getcwd())"
   ]
  },
  {
   "cell_type": "markdown",
   "metadata": {},
   "source": [
    "## open xml "
   ]
  },
  {
   "cell_type": "code",
   "execution_count": 3,
   "metadata": {},
   "outputs": [],
   "source": [
    "import xml.etree.ElementTree as ET\n",
    "tree = ET.parse(xmlfile)\n",
    "games = tree.getroot()"
   ]
  },
  {
   "cell_type": "code",
   "execution_count": 4,
   "metadata": {},
   "outputs": [
    {
     "name": "stdout",
     "output_type": "stream",
     "text": [
      "msx2 안의 게임수: 58\n"
     ]
    }
   ],
   "source": [
    "print(dname, \"안의 게임수:\", len(games))"
   ]
  },
  {
   "cell_type": "markdown",
   "metadata": {},
   "source": [
    "## 타이틀 삭제하기"
   ]
  },
  {
   "cell_type": "code",
   "execution_count": 5,
   "metadata": {},
   "outputs": [
    {
     "name": "stdout",
     "output_type": "stream",
     "text": [
      "./Antarctic Adventure (Japan).zip\n"
     ]
    }
   ],
   "source": [
    "g = games[0]\n",
    "path = g.find('path')\n",
    "print(path.text)"
   ]
  },
  {
   "cell_type": "code",
   "execution_count": 6,
   "metadata": {},
   "outputs": [
    {
     "name": "stdout",
     "output_type": "stream",
     "text": [
      "파일 체크 완료\n"
     ]
    }
   ],
   "source": [
    "for game in games:\n",
    "    path = game.find('path')      \n",
    "    if path != None:                \n",
    "        if not os.path.isfile(path.text):\n",
    "            print(\"없는 파일: \" + path.text)\n",
    "            games.remove(game)     \n",
    "else:\n",
    "    print(\"파일 체크 완료\")\n"
   ]
  },
  {
   "cell_type": "code",
   "execution_count": 7,
   "metadata": {},
   "outputs": [
    {
     "data": {
      "text/plain": [
       "58"
      ]
     },
     "execution_count": 7,
     "metadata": {},
     "output_type": "execute_result"
    }
   ],
   "source": [
    "len(games)"
   ]
  },
  {
   "cell_type": "code",
   "execution_count": 8,
   "metadata": {},
   "outputs": [],
   "source": [
    "tree.write(xmlfile, 'UTF-8')"
   ]
  },
  {
   "cell_type": "code",
   "execution_count": null,
   "metadata": {},
   "outputs": [],
   "source": []
  }
 ],
 "metadata": {
  "kernelspec": {
   "display_name": "Python 3 (ipykernel)",
   "language": "python",
   "name": "python3"
  },
  "language_info": {
   "codemirror_mode": {
    "name": "ipython",
    "version": 3
   },
   "file_extension": ".py",
   "mimetype": "text/x-python",
   "name": "python",
   "nbconvert_exporter": "python",
   "pygments_lexer": "ipython3",
   "version": "3.11.3"
  },
  "vscode": {
   "interpreter": {
    "hash": "63051b48e7e8e53c575aaa6aaf27b60c9dff9cf5557ed511cfd339670f583172"
   }
  }
 },
 "nbformat": 4,
 "nbformat_minor": 2
}
