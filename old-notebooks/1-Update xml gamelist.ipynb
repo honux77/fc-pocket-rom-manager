{
 "cells": [
  {
   "cell_type": "markdown",
   "metadata": {},
   "source": [
    "# 리스트 정리 및 신규 파일 추가\n",
    "- 리스트에 없는 롬을 리스트에 추가한다.\n",
    "- 리스트에만 있고 실제로는 존재하지 않는 롬을 리스트에서 제거한다."
   ]
  },
  {
   "cell_type": "markdown",
   "metadata": {},
   "source": [
    "## 환경변수 설정"
   ]
  },
  {
   "cell_type": "code",
   "execution_count": 7,
   "metadata": {},
   "outputs": [],
   "source": [
    "# local root\n",
    "rootdir = 'D:\\\\Retropie'\n",
    "dirs = [\n",
    "    'psx',\n",
    "       ]\n",
    "exts = ['.zip', '.chd', '.dsk', '.m3u', '.cdi', '.cue','.fds']\n",
    "xmlfile = 'gamelist.xml'"
   ]
  },
  {
   "cell_type": "markdown",
   "metadata": {},
   "source": [
    "## 현재 폴더에서 롬 목록 가져오기"
   ]
  },
  {
   "cell_type": "code",
   "execution_count": 8,
   "metadata": {},
   "outputs": [],
   "source": [
    "def getRomList(dir):\n",
    "    import os\n",
    "    curr = os.path.join(rootdir, dir)\n",
    "    os.chdir(curr)\n",
    "    print(os.getcwd())\n",
    "    allfiles = os.listdir()\n",
    "    return  [f for f in allfiles if os.path.splitext(f)[1] in exts] "
   ]
  },
  {
   "cell_type": "code",
   "execution_count": 9,
   "metadata": {},
   "outputs": [],
   "source": [
    "def trimAndSaveGameList():\n",
    "    import os\n",
    "    import xml.etree.ElementTree as ET\n",
    "    tree = ET.parse(xmlfile)\n",
    "    games = tree.getroot()\n",
    "    i = 0\n",
    "    find = 0\n",
    "    for game in games:        \n",
    "        path = game.find('path').text\n",
    "        if not os.path.isfile(path):\n",
    "            print(\"Remove \" + path)\n",
    "            games.remove(game)\n",
    "            find += 1\n",
    "        else:\n",
    "            desc = game.find('desc')\n",
    "            if desc != None:\n",
    "                game.remove(desc)\n",
    "            i += 1\n",
    "    print(\"{} game removed\".format(find))\n",
    "    tree.write('gamelist.xml', 'UTF-8')"
   ]
  },
  {
   "cell_type": "code",
   "execution_count": 10,
   "metadata": {},
   "outputs": [],
   "source": [
    "def findMissingGames(files):\n",
    "    import os\n",
    "    # create file dict using game list\n",
    "    fileDict = {}\n",
    "    import xml.etree.ElementTree as ET\n",
    "    tree = ET.parse(xmlfile)\n",
    "    games = tree.getroot()\n",
    "    for game in games:\n",
    "        path = os.path.basename(game.find('path').text)\n",
    "        fileDict[path] = 1\n",
    "        \n",
    "        if game.find('name') == None:\n",
    "            name = ET.Element('name')\n",
    "            name.text = game.find('path').text[2:-4]\n",
    "            game.insert(1, name)  \n",
    "            print(\"없는 타이틀 채우기: \" + game.find('name').text)\n",
    "    # check\n",
    "    missing = []\n",
    "    for file in files:\n",
    "        if not file in fileDict:\n",
    "            missing.append(file)\n",
    "            print(file + \" is not in list\")            \n",
    "    \n",
    "    tree.write('gamelist.xml', 'UTF-8')\n",
    "    return missing"
   ]
  },
  {
   "cell_type": "code",
   "execution_count": 11,
   "metadata": {},
   "outputs": [],
   "source": [
    "def addGameToList(missing):\n",
    "    \n",
    "    import os\n",
    "    import xml.etree.ElementTree as ET\n",
    "    tree = ET.parse(xmlfile)\n",
    "    games = tree.getroot()\n",
    "\n",
    "    sample = '''\n",
    "\t<game>\n",
    "\t\t<path>PATH</path>\n",
    "\t\t<name>NAME</name>\n",
    "\t\t<image>IMAGE</image>\n",
    "\t\t<releasedate></releasedate>\n",
    "\t\t<developer></developer>\n",
    "\t\t<publisher></publisher>\n",
    "\t\t<genre></genre>\n",
    "\t</game>\n",
    "'''\n",
    "    for item in missing:\n",
    "        print(\"Add \" + item)\n",
    "        title = item[:-4]\n",
    "        game = ET.fromstring(sample)\n",
    "        game.find('path').text = './' + item\n",
    "        game.find('name').text = title\n",
    "        game.find('image').text = './box/' + title + '.png'\n",
    "        for attr in game:\n",
    "            print(attr.tag, attr.text)\n",
    "        print(\"============\")\n",
    "        games.append(game)\n",
    "    \n",
    "    tree.write('gamelist.xml', 'UTF-8')"
   ]
  },
  {
   "cell_type": "code",
   "execution_count": 12,
   "metadata": {},
   "outputs": [
    {
     "name": "stdout",
     "output_type": "stream",
     "text": [
      "D:\\Retropie\\psx\n",
      "0 game removed\n",
      "Detana Twinbee Yahho! Deluxe Pack (J).chd is not in list\n",
      "Super Robot Taisen Alpha (J_K) (v1.1).chd is not in list\n",
      "Final Fantasy VII International (J-K).m3u is not in list\n",
      "Add Detana Twinbee Yahho! Deluxe Pack (J).chd\n",
      "path ./Detana Twinbee Yahho! Deluxe Pack (J).chd\n",
      "name Detana Twinbee Yahho! Deluxe Pack (J)\n",
      "image ./box/Detana Twinbee Yahho! Deluxe Pack (J).png\n",
      "releasedate None\n",
      "developer None\n",
      "publisher None\n",
      "genre None\n",
      "============\n",
      "Add Super Robot Taisen Alpha (J_K) (v1.1).chd\n",
      "path ./Super Robot Taisen Alpha (J_K) (v1.1).chd\n",
      "name Super Robot Taisen Alpha (J_K) (v1.1)\n",
      "image ./box/Super Robot Taisen Alpha (J_K) (v1.1).png\n",
      "releasedate None\n",
      "developer None\n",
      "publisher None\n",
      "genre None\n",
      "============\n",
      "Add Final Fantasy VII International (J-K).m3u\n",
      "path ./Final Fantasy VII International (J-K).m3u\n",
      "name Final Fantasy VII International (J-K)\n",
      "image ./box/Final Fantasy VII International (J-K).png\n",
      "releasedate None\n",
      "developer None\n",
      "publisher None\n",
      "genre None\n",
      "============\n"
     ]
    }
   ],
   "source": [
    "for dir in dirs:\n",
    "    roms = getRomList(dir)\n",
    "    trimAndSaveGameList()\n",
    "    missing = findMissingGames(roms)\n",
    "    addGameToList(missing)"
   ]
  },
  {
   "cell_type": "code",
   "execution_count": null,
   "metadata": {},
   "outputs": [],
   "source": []
  }
 ],
 "metadata": {
  "kernelspec": {
   "display_name": "Python 3 (ipykernel)",
   "language": "python",
   "name": "python3"
  },
  "language_info": {
   "codemirror_mode": {
    "name": "ipython",
    "version": 3
   },
   "file_extension": ".py",
   "mimetype": "text/x-python",
   "name": "python",
   "nbconvert_exporter": "python",
   "pygments_lexer": "ipython3",
   "version": "3.11.3"
  },
  "vscode": {
   "interpreter": {
    "hash": "63051b48e7e8e53c575aaa6aaf27b60c9dff9cf5557ed511cfd339670f583172"
   }
  }
 },
 "nbformat": 4,
 "nbformat_minor": 2
}
