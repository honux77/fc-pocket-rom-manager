{
 "cells": [
  {
   "cell_type": "markdown",
   "metadata": {},
   "source": [
    "# 영문 제목 변경하기"
   ]
  },
  {
   "cell_type": "markdown",
   "metadata": {},
   "source": [
    "## Setup"
   ]
  },
  {
   "cell_type": "code",
   "execution_count": 1,
   "metadata": {},
   "outputs": [
    {
     "data": {
      "text/plain": [
       "['fds',\n",
       " 'megadrive',\n",
       " 'msx1',\n",
       " 'neogeo',\n",
       " 'nes',\n",
       " 'pcengine',\n",
       " 'psx',\n",
       " 'segacd',\n",
       " 'snes',\n",
       " 'fba',\n",
       " 'gamegear',\n",
       " 'gb',\n",
       " 'gbc',\n",
       " 'mame-libretro',\n",
       " 'n64',\n",
       " 'ngp',\n",
       " 'sega32x',\n",
       " 'sg-1000',\n",
       " 'vectrex',\n",
       " 'zxspectrum',\n",
       " 'bios',\n",
       " 'gameandwatch',\n",
       " 'mastersystem',\n",
       " 'gba',\n",
       " 'pcenginecd',\n",
       " '.ipynb_checkpoints',\n",
       " 'mame-advmame',\n",
       " 'ngpc',\n",
       " 'pc',\n",
       " 'msx2',\n",
       " 'apple2',\n",
       " 'apple2gs',\n",
       " 'fbneo',\n",
       " 'gw',\n",
       " 'gx4000',\n",
       " 'intellivision',\n",
       " 'jaguar',\n",
       " 'lowresnx',\n",
       " 'lutro',\n",
       " 'lynx',\n",
       " 'macintosh',\n",
       " 'mame',\n",
       " 'megaduck',\n",
       " 'moonlight',\n",
       " 'msxturbor',\n",
       " 'multivision',\n",
       " 'naomi',\n",
       " 'naomigd',\n",
       " 'neogeocd',\n",
       " 'o2em',\n",
       " 'openbor',\n",
       " 'oricatmos',\n",
       " 'palm',\n",
       " 'pc88',\n",
       " 'pc98',\n",
       " 'pcfx',\n",
       " 'pcv2',\n",
       " 'pico8',\n",
       " 'pokemini',\n",
       " 'ports']"
      ]
     },
     "execution_count": 1,
     "metadata": {},
     "output_type": "execute_result"
    }
   ],
   "source": [
    "# print folders\n",
    "import os\n",
    "[f for f in os.listdir() if os.path.isdir(f)]"
   ]
  },
  {
   "cell_type": "code",
   "execution_count": 14,
   "metadata": {},
   "outputs": [],
   "source": [
    "dname='psx'\n",
    "exts=['.zip', '.chd', '.m3u', '.dsk', '.fds', '.rom'] \n",
    "xmlfile = 'gamelist.xml'\n",
    "rdir = '/home/pi/roms/' + dname\n",
    "root = \"D:\\Retropie\"\n",
    "imgPath = \"./box\"\n",
    "videoPath = \"./video\""
   ]
  },
  {
   "cell_type": "code",
   "execution_count": 15,
   "metadata": {},
   "outputs": [
    {
     "name": "stdout",
     "output_type": "stream",
     "text": [
      "Current DIr:  D:\\Retropie\\psx\n"
     ]
    }
   ],
   "source": [
    "import os\n",
    "os.chdir(os.path.join(root,dname))\n",
    "print(\"Current DIr: \", os.getcwd())"
   ]
  },
  {
   "cell_type": "markdown",
   "metadata": {},
   "source": [
    "## open xml "
   ]
  },
  {
   "cell_type": "code",
   "execution_count": 16,
   "metadata": {},
   "outputs": [],
   "source": [
    "import xml.etree.ElementTree as ET\n",
    "tree = ET.parse(xmlfile)\n",
    "games = tree.getroot()"
   ]
  },
  {
   "cell_type": "code",
   "execution_count": 17,
   "metadata": {},
   "outputs": [
    {
     "name": "stdout",
     "output_type": "stream",
     "text": [
      "psx 안의 게임수: 17\n"
     ]
    }
   ],
   "source": [
    "print(dname, \"안의 게임수:\", len(games))"
   ]
  },
  {
   "cell_type": "code",
   "execution_count": 18,
   "metadata": {},
   "outputs": [],
   "source": [
    "# for attr in root[0]:\n",
    "#     print(attr.tag, attr.text)"
   ]
  },
  {
   "cell_type": "code",
   "execution_count": 19,
   "metadata": {},
   "outputs": [],
   "source": [
    "import re"
   ]
  },
  {
   "cell_type": "code",
   "execution_count": 20,
   "metadata": {},
   "outputs": [],
   "source": [
    "hangul = re.compile('[ㄱ-ㅣ가-힣]+')"
   ]
  },
  {
   "cell_type": "markdown",
   "metadata": {},
   "source": [
    "## 영문 타이틀 한글로 변경하기"
   ]
  },
  {
   "cell_type": "code",
   "execution_count": 21,
   "metadata": {},
   "outputs": [
    {
     "name": "stdout",
     "output_type": "stream",
     "text": [
      "랑그릿사 I & II (일판)\n",
      "파라파 더 래퍼 (영문판)\n",
      "아크 더 래드 컬렉션 (영문판)\n",
      "슈퍼 로봇 대전 알파 외전 (한글)\n",
      "팝픈 뮤직 6 (일판)\n",
      "발키리 프로파일 (일판)\n",
      "베이그란트 스토리 (북미판)\n",
      "프론트 미션 2 (일판)\n",
      "사가 프론티어 (영문판)\n",
      "마리의 아뜨리에 (일판)\n",
      "루나 실버 스타 스토리: 컴플리트 (일판)\n",
      "악마성 드라큘라 월하의 야상곡 (한글판)\n",
      "남코 뮤지엄 Vol. 4 (U)\n",
      "R4 릿지 레이서 타입 4 (U)\n",
      "Detana Twinbee Yahho! Deluxe Pack (J)\n",
      "Detana Twinbee Yahho! Deluxe Pack (J) ./Detana Twinbee Yahho! Deluxe Pack (J).chd\n",
      "나왔다 트윈비 야호! 디럭스팩(J)\n",
      "Super Robot Taisen Alpha (J_K) (v1.1)\n",
      "Super Robot Taisen Alpha (J_K) (v1.1) ./Super Robot Taisen Alpha (J_K) (v1.1).chd\n",
      "슈퍼 로봇 대전 알파(JK)\n",
      "Final Fantasy VII International (J-K)\n",
      "Final Fantasy VII International (J-K) ./Final Fantasy VII International (J-K).m3u\n",
      "파이널 판타지 7(JK)\n"
     ]
    }
   ],
   "source": [
    "for game in games:\n",
    "    name = game.find('name')\n",
    "    path = game.find('path')\n",
    "    print(name.text)\n",
    "    if len(hangul.findall(name.text)) == 0:\n",
    "        print(name.text, path.text)\n",
    "        tt = input()\n",
    "        if len(tt) > 0:\n",
    "            name.text = tt"
   ]
  },
  {
   "cell_type": "code",
   "execution_count": 22,
   "metadata": {},
   "outputs": [
    {
     "data": {
      "text/plain": [
       "17"
      ]
     },
     "execution_count": 22,
     "metadata": {},
     "output_type": "execute_result"
    }
   ],
   "source": [
    "len(games)"
   ]
  },
  {
   "cell_type": "markdown",
   "metadata": {},
   "source": [
    "# 이미지 속성이 없을 경우 추가하기\n",
    "\n",
    "- 이미지 속성이 없을 경우 추가\n",
    "- 다운로드 경로에 있는 이미지 경로 box 경로로 변경\n",
    "- \"-image\" 접미사 제거"
   ]
  },
  {
   "cell_type": "code",
   "execution_count": 23,
   "metadata": {},
   "outputs": [
    {
     "name": "stdout",
     "output_type": "stream",
     "text": [
      "이미지 OK 17, X 0\n"
     ]
    }
   ],
   "source": [
    "ok = 0\n",
    "miss = 0\n",
    "for game in games:    \n",
    "    path = game.find('path')\n",
    "    image = game.find('image')\n",
    "    # print(image.text)\n",
    "    if image == None:\n",
    "        imageName = os.path.splitext(os.path.basename(path.text))[0]\n",
    "        image = ET.Element('image')\n",
    "        image.text = os.path.join(imgPath,imageName + \".png\") \n",
    "        print(image.text) \n",
    "        game.insert(3,image)\n",
    "        miss += 1\n",
    "    elif \".emulationstation\" in image.text:\n",
    "        print(\"move path from: \", image.text)        \n",
    "        image.text = os.path.join(imgPath, os.path.basename(image.text).replace(\"-image\",\"\"))\n",
    "        print(\"move path to: \", image.text)\n",
    "    else:            \n",
    "        image.text = image.text.replace(\"-image\",\"\")\n",
    "        ok += 1\n",
    "        # print(path.text, image.text)\n",
    "print(\"이미지 OK {}, X {}\".format(ok, miss))"
   ]
  },
  {
   "cell_type": "code",
   "execution_count": 24,
   "metadata": {},
   "outputs": [
    {
     "name": "stdout",
     "output_type": "stream",
     "text": [
      "Find desc: 0\n"
     ]
    }
   ],
   "source": [
    "exist = 0\n",
    "for game in games:\n",
    "    desc = game.find('desc')\n",
    "    if desc != None:\n",
    "        exist += 1\n",
    "        game.remove(desc)\n",
    "print(\"Find desc: \" + str(exist))"
   ]
  },
  {
   "cell_type": "code",
   "execution_count": 25,
   "metadata": {},
   "outputs": [],
   "source": [
    "tree.write(xmlfile, 'UTF-8')"
   ]
  },
  {
   "cell_type": "code",
   "execution_count": null,
   "metadata": {},
   "outputs": [],
   "source": []
  }
 ],
 "metadata": {
  "kernelspec": {
   "display_name": "Python 3 (ipykernel)",
   "language": "python",
   "name": "python3"
  },
  "language_info": {
   "codemirror_mode": {
    "name": "ipython",
    "version": 3
   },
   "file_extension": ".py",
   "mimetype": "text/x-python",
   "name": "python",
   "nbconvert_exporter": "python",
   "pygments_lexer": "ipython3",
   "version": "3.11.3"
  }
 },
 "nbformat": 4,
 "nbformat_minor": 2
}
