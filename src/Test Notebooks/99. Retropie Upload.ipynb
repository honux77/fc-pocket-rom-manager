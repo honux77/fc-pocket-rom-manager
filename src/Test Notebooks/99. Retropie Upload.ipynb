{
 "cells": [
  {
   "cell_type": "markdown",
   "metadata": {},
   "source": [
    "## 환경 설정"
   ]
  },
  {
   "cell_type": "code",
   "execution_count": 109,
   "metadata": {},
   "outputs": [],
   "source": [
    "# local root\n",
    "rootdir = 'E:\\\\Retropie'\n",
    "\n",
    "# dirs to sync\n",
    "games = [\n",
    "    'arcade',\n",
    "    'megadrive',\n",
    "    'nes',\n",
    "    'snes',\n",
    "    'msx',\n",
    "    'pcengine',\n",
    "    'segacd',\n",
    "    'fds',\n",
    "    'gba',\n",
    "    'mastersystem',\n",
    "]\n",
    "\n",
    "# remote rom direcgtory\n",
    "romdir = '/home/pi/roms/'"
   ]
  },
  {
   "cell_type": "code",
   "execution_count": 110,
   "metadata": {},
   "outputs": [],
   "source": [
    "import os\n",
    "# rootdir = os.getcwd()"
   ]
  },
  {
   "cell_type": "markdown",
   "metadata": {},
   "source": [
    "## 레트로 파이 SSH 접속하기"
   ]
  },
  {
   "cell_type": "code",
   "execution_count": 111,
   "metadata": {},
   "outputs": [
    {
     "name": "stderr",
     "output_type": "stream",
     "text": [
      "C:\\Users\\k5020\\Miniconda3\\envs\\py37\\lib\\site-packages\\paramiko\\ecdsakey.py:164: CryptographyDeprecationWarning: Support for unsafe construction of public numbers from encoded data will be removed in a future version. Please use EllipticCurvePublicKey.from_encoded_point\n",
      "  self.ecdsa_curve.curve_class(), pointinfo\n"
     ]
    }
   ],
   "source": [
    "from paramiko import SSHClient\n",
    "from scp import SCPClient\n",
    "\n",
    "ssh = SSHClient()\n",
    "ssh.load_system_host_keys()"
   ]
  },
  {
   "cell_type": "code",
   "execution_count": 112,
   "metadata": {
    "scrolled": true
   },
   "outputs": [
    {
     "name": "stderr",
     "output_type": "stream",
     "text": [
      "C:\\Users\\k5020\\Miniconda3\\envs\\py37\\lib\\site-packages\\paramiko\\kex_ecdh_nist.py:39: CryptographyDeprecationWarning: encode_point has been deprecated on EllipticCurvePublicNumbers and will be removed in a future version. Please use EllipticCurvePublicKey.public_bytes to obtain both compressed and uncompressed point encoding.\n",
      "  m.add_string(self.Q_C.public_numbers().encode_point())\n",
      "C:\\Users\\k5020\\Miniconda3\\envs\\py37\\lib\\site-packages\\paramiko\\kex_ecdh_nist.py:96: CryptographyDeprecationWarning: Support for unsafe construction of public numbers from encoded data will be removed in a future version. Please use EllipticCurvePublicKey.from_encoded_point\n",
      "  self.curve, Q_S_bytes\n",
      "C:\\Users\\k5020\\Miniconda3\\envs\\py37\\lib\\site-packages\\paramiko\\kex_ecdh_nist.py:111: CryptographyDeprecationWarning: encode_point has been deprecated on EllipticCurvePublicNumbers and will be removed in a future version. Please use EllipticCurvePublicKey.public_bytes to obtain both compressed and uncompressed point encoding.\n",
      "  hm.add_string(self.Q_C.public_numbers().encode_point())\n"
     ]
    }
   ],
   "source": [
    "ssh.connect(username='pi',password='raspberry', hostname='retropie')\n",
    "scp = SCPClient(ssh.get_transport())"
   ]
  },
  {
   "cell_type": "markdown",
   "metadata": {},
   "source": [
    "## 필요 함수 정의"
   ]
  },
  {
   "cell_type": "code",
   "execution_count": 113,
   "metadata": {},
   "outputs": [],
   "source": [
    "def getRemotes(gamedir):\n",
    "    stdin, stdout, stderr = ssh.exec_command('ls ~/roms/' + gamedir)\n",
    "    remote_dict = {}\n",
    "    for fname in stdout:\n",
    "        remote_dict[fname[:-1]] = 1\n",
    "    return remote_dict"
   ]
  },
  {
   "cell_type": "code",
   "execution_count": 114,
   "metadata": {},
   "outputs": [],
   "source": [
    "# for game in games:\n",
    "#     rdict = getRemotes(game)\n",
    "#     print(game)\n",
    "#     print(len(game))\n",
    "#     print(list(rdict.keys())[:5])"
   ]
  },
  {
   "cell_type": "code",
   "execution_count": 115,
   "metadata": {},
   "outputs": [],
   "source": [
    "def getLocals(gamedir):\n",
    "    os.chdir(rootdir)\n",
    "    os.chdir(gamedir)\n",
    "    locals = os.listdir()\n",
    "    local_dict = {}\n",
    "    for f in locals:\n",
    "        local_dict[f] = 1\n",
    "    return local_dict"
   ]
  },
  {
   "cell_type": "code",
   "execution_count": 116,
   "metadata": {},
   "outputs": [],
   "source": [
    "def copyFiles(rdict, ldict, gamedir):\n",
    "    count = 0\n",
    "    for r in rdict.keys():\n",
    "        if r not in ldict or r == 'gamelist.xml':\n",
    "            print(\"Backup file: {}\".format(r))\n",
    "            scp.get(\"{}/{}/{}\".format(romdir, gamedir, r), recursive=True)\n",
    "            count += 1\n",
    "#         else:\n",
    "#             print(\"Ok \" + r)\n",
    "    return count"
   ]
  },
  {
   "cell_type": "code",
   "execution_count": 117,
   "metadata": {},
   "outputs": [],
   "source": [
    "def rbackup(gamedir):\n",
    "    print(\"Start backup \" + gamedir)\n",
    "    rdict = getRemotes(gamedir)\n",
    "    ldict = getLocals(gamedir)\n",
    "    count = copyFiles(rdict, ldict, gamedir)    \n",
    "    print(\"End backup {} : {}\\n================\\n\".format(gamedir, count))\n",
    "    os.chdir(rootdir)"
   ]
  },
  {
   "cell_type": "code",
   "execution_count": 118,
   "metadata": {},
   "outputs": [],
   "source": [
    "def backupSnap(gamedir):\n",
    "    snapdir = gamedir + '/snap'\n",
    "    print(\"Start backup snap\" + gamedir)\n",
    "    rdict = getRemotes(snapdir)\n",
    "    ldict = getLocals(snapdir)\n",
    "    count = copyFiles(rdict, ldict, snapdir)    \n",
    "    print(\"End backup {} : {}\\n================\\n\".format(gamedir, count))\n",
    "    os.chdir(rootdir)    "
   ]
  },
  {
   "cell_type": "code",
   "execution_count": 119,
   "metadata": {},
   "outputs": [
    {
     "name": "stdout",
     "output_type": "stream",
     "text": [
      "Start backup arcade\n",
      "Backup file: gamelist.xml\n",
      "End backup arcade : 1\n",
      "================\n",
      "\n",
      "Start backup snaparcade\n",
      "End backup arcade : 0\n",
      "================\n",
      "\n",
      "Start backup megadrive\n",
      "Backup file: gamelist.xml\n",
      "End backup megadrive : 1\n",
      "================\n",
      "\n",
      "Start backup snapmegadrive\n",
      "End backup megadrive : 0\n",
      "================\n",
      "\n",
      "Start backup nes\n",
      "Backup file: gamelist.xml\n",
      "End backup nes : 1\n",
      "================\n",
      "\n",
      "Start backup snapnes\n",
      "End backup nes : 0\n",
      "================\n",
      "\n",
      "Start backup snes\n",
      "Backup file: gamelist.xml\n",
      "End backup snes : 1\n",
      "================\n",
      "\n",
      "Start backup snapsnes\n",
      "End backup snes : 0\n",
      "================\n",
      "\n",
      "Start backup msx\n",
      "Backup file: gamelist.xml\n",
      "End backup msx : 1\n",
      "================\n",
      "\n",
      "Start backup snapmsx\n",
      "End backup msx : 0\n",
      "================\n",
      "\n",
      "Start backup pcengine\n",
      "Backup file: gamelist.xml\n",
      "End backup pcengine : 1\n",
      "================\n",
      "\n",
      "Start backup snappcengine\n",
      "End backup pcengine : 0\n",
      "================\n",
      "\n",
      "Start backup segacd\n",
      "Backup file: gamelist.xml\n",
      "End backup segacd : 1\n",
      "================\n",
      "\n",
      "Start backup snapsegacd\n",
      "End backup segacd : 0\n",
      "================\n",
      "\n",
      "Start backup fds\n",
      "Backup file: gamelist.xml\n",
      "End backup fds : 1\n",
      "================\n",
      "\n",
      "Start backup snapfds\n",
      "End backup fds : 0\n",
      "================\n",
      "\n",
      "Start backup gba\n",
      "Backup file: gamelist.xml\n",
      "End backup gba : 1\n",
      "================\n",
      "\n",
      "Start backup snapgba\n",
      "End backup gba : 0\n",
      "================\n",
      "\n",
      "Start backup mastersystem\n",
      "Backup file: gamelist.xml\n",
      "End backup mastersystem : 1\n",
      "================\n",
      "\n",
      "Start backup snapmastersystem\n",
      "Backup file: Ultima IV - Quest of the Avatar (E) [!]-image.jpg\n",
      "End backup mastersystem : 1\n",
      "================\n",
      "\n",
      "All done!\n"
     ]
    }
   ],
   "source": [
    "for game in games:\n",
    "    rbackup(game)\n",
    "    backupSnap(game)\n",
    "print(\"All done!\")"
   ]
  },
  {
   "cell_type": "markdown",
   "metadata": {},
   "source": [
    "## clean local directory "
   ]
  },
  {
   "cell_type": "markdown",
   "metadata": {},
   "source": [
    "아래의 코드를 싫행하면 로컬의 파일을 제거하므로 주의할 것"
   ]
  },
  {
   "cell_type": "code",
   "execution_count": 104,
   "metadata": {},
   "outputs": [],
   "source": [
    "def removeFiles(rdict, ldict, gamedir):\n",
    "    count = 0\n",
    "    for lfile in ldict.keys():\n",
    "        if lfile not in rdict:\n",
    "            print(lfile)\n",
    "            os.remove(lfile)\n",
    "            count += 1\n",
    "#         else:\n",
    "#             print(lfile)\n",
    "    return count"
   ]
  },
  {
   "cell_type": "code",
   "execution_count": 121,
   "metadata": {},
   "outputs": [],
   "source": [
    "def localClear(gamedir):\n",
    "    print(\"Start clear local \" + gamedir)\n",
    "    rdict = getRemotes(gamedir)\n",
    "    ldict = getLocals(gamedir)\n",
    "    count = removeFiles(rdict, ldict, gamedir)    \n",
    "    print(\"End clean {} : {}\\n================\\n\".format(gamedir, count))\n",
    "    os.chdir(rootdir)\n",
    "    "
   ]
  },
  {
   "cell_type": "code",
   "execution_count": 125,
   "metadata": {},
   "outputs": [],
   "source": [
    "def localSnapClear(gamedir):\n",
    "    snapdir = gamedir + '/snap'\n",
    "    print(\"Start clear local snap \" + gamedir)\n",
    "    rdict = getRemotes(snapdir)\n",
    "    ldict = getLocals(snapdir)\n",
    "    count = removeFiles(rdict, ldict, snapdir)    \n",
    "    print(\"End clean {} : {}\\n================\\n\".format(gamedir, count))\n",
    "    os.chdir(rootdir)\n",
    "    "
   ]
  },
  {
   "cell_type": "code",
   "execution_count": 128,
   "metadata": {},
   "outputs": [
    {
     "name": "stdout",
     "output_type": "stream",
     "text": [
      "Start clear local snap arcade\n",
      "3wonders-image - 복사본.png\n",
      "End clean arcade : 1\n",
      "================\n",
      "\n"
     ]
    }
   ],
   "source": [
    "localSnapClear('arcade')"
   ]
  },
  {
   "cell_type": "code",
   "execution_count": 129,
   "metadata": {},
   "outputs": [
    {
     "name": "stdout",
     "output_type": "stream",
     "text": [
      "Start clear local arcade\n",
      "End clean arcade : 0\n",
      "================\n",
      "\n",
      "Start clear local snap arcade\n",
      "End clean arcade : 0\n",
      "================\n",
      "\n",
      "Start clear local megadrive\n",
      "End clean megadrive : 0\n",
      "================\n",
      "\n",
      "Start clear local snap megadrive\n",
      "End clean megadrive : 0\n",
      "================\n",
      "\n",
      "Start clear local nes\n",
      "End clean nes : 0\n",
      "================\n",
      "\n",
      "Start clear local snap nes\n",
      "End clean nes : 0\n",
      "================\n",
      "\n",
      "Start clear local snes\n",
      "End clean snes : 0\n",
      "================\n",
      "\n",
      "Start clear local snap snes\n",
      "End clean snes : 0\n",
      "================\n",
      "\n",
      "Start clear local msx\n",
      "End clean msx : 0\n",
      "================\n",
      "\n",
      "Start clear local snap msx\n",
      "End clean msx : 0\n",
      "================\n",
      "\n",
      "Start clear local pcengine\n",
      "End clean pcengine : 0\n",
      "================\n",
      "\n",
      "Start clear local snap pcengine\n",
      "End clean pcengine : 0\n",
      "================\n",
      "\n",
      "Start clear local segacd\n",
      "End clean segacd : 0\n",
      "================\n",
      "\n",
      "Start clear local snap segacd\n",
      "End clean segacd : 0\n",
      "================\n",
      "\n",
      "Start clear local fds\n",
      "End clean fds : 0\n",
      "================\n",
      "\n",
      "Start clear local snap fds\n",
      "End clean fds : 0\n",
      "================\n",
      "\n",
      "Start clear local gba\n",
      "End clean gba : 0\n",
      "================\n",
      "\n",
      "Start clear local snap gba\n",
      "End clean gba : 0\n",
      "================\n",
      "\n",
      "Start clear local mastersystem\n",
      "End clean mastersystem : 0\n",
      "================\n",
      "\n",
      "Start clear local snap mastersystem\n",
      "End clean mastersystem : 0\n",
      "================\n",
      "\n",
      "All done!\n"
     ]
    }
   ],
   "source": [
    "for game in games:\n",
    "    localClear(game)\n",
    "    localSnapClear(game)\n",
    "print(\"All done!\")"
   ]
  },
  {
   "cell_type": "code",
   "execution_count": 92,
   "metadata": {},
   "outputs": [],
   "source": [
    "# scp.put('test.txt', 'test2.txt')\n",
    "# scp.get(rdir + 'test2.txt')\n",
    "\n",
    "# # Uploading the 'test' directory with its content in the\n",
    "# # '/home/user/dump' remote directory\n",
    "# scp.put('test', recursive=True, remote_path='/home/user/dump')\n",
    "\n",
    "# scp.close()"
   ]
  },
  {
   "cell_type": "code",
   "execution_count": null,
   "metadata": {},
   "outputs": [],
   "source": []
  }
 ],
 "metadata": {
  "kernelspec": {
   "display_name": "Python 3",
   "language": "python",
   "name": "python3"
  },
  "language_info": {
   "codemirror_mode": {
    "name": "ipython",
    "version": 3
   },
   "file_extension": ".py",
   "mimetype": "text/x-python",
   "name": "python",
   "nbconvert_exporter": "python",
   "pygments_lexer": "ipython3",
   "version": "3.9.2"
  }
 },
 "nbformat": 4,
 "nbformat_minor": 2
}
