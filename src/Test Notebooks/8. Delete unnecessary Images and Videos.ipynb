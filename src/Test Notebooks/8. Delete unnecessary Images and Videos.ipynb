{
 "cells": [
  {
   "cell_type": "markdown",
   "metadata": {},
   "source": [
    "# 사용하지 않는 이미지 삭제"
   ]
  },
  {
   "cell_type": "markdown",
   "metadata": {},
   "source": [
    "## 리스트에서 이미지 목록 및 비디오 목록 뽑기"
   ]
  },
  {
   "cell_type": "code",
   "execution_count": 43,
   "metadata": {},
   "outputs": [],
   "source": [
    "root = \"d:\\Retropie\"\n",
    "dirs = [\n",
    "    'msx2',\n",
    "]\n",
    "\n",
    "#image\n",
    "itarget = 'box'\n",
    "\n",
    "#xml\n",
    "xmlfile = 'gamelist.xml'"
   ]
  },
  {
   "cell_type": "code",
   "execution_count": 44,
   "metadata": {},
   "outputs": [],
   "source": [
    "import os\n",
    "xmlImages = {}\n",
    "files = []"
   ]
  },
  {
   "cell_type": "code",
   "execution_count": 45,
   "metadata": {},
   "outputs": [],
   "source": [
    "def getFileList():\n",
    "    print(\"Get Image File List from gamelist.xml\")\n",
    "    import xml.etree.ElementTree as ET\n",
    "    tree = ET.parse(xmlfile)\n",
    "    games = tree.getroot()\n",
    "    for game in games:\n",
    "        image = game.find('image')\n",
    "        if image != None:\n",
    "            xmlImages[os.path.basename(image.text)] = False\n",
    "    print(\"필요 이미지 목록: {}\".format(len(xmlImages)))"
   ]
  },
  {
   "cell_type": "code",
   "execution_count": 46,
   "metadata": {},
   "outputs": [],
   "source": [
    "def removeImages():\n",
    "    ok = 0\n",
    "    no = 0\n",
    "    files = [f for f in os.listdir(itarget)]\n",
    "    for image in files:\n",
    "        # print(image)\n",
    "        if image in xmlImages:\n",
    "            xmlImages[image] = True\n",
    "            ok += 1\n",
    "        else:\n",
    "            no += 1\n",
    "            print(\"Remove \" + image)\n",
    "            os.remove(os.path.join(itarget, image))\n",
    "    print(\"Ok: {} Delete: {}\".format(ok, no))"
   ]
  },
  {
   "cell_type": "code",
   "execution_count": 47,
   "metadata": {},
   "outputs": [
    {
     "name": "stdout",
     "output_type": "stream",
     "text": [
      "작업 디렉토리d:\\Retropie\\msx2\n",
      "Get Image File List from gamelist.xml\n",
      "필요 이미지 목록: 46\n",
      "Ok: 46 Delete: 0\n"
     ]
    }
   ],
   "source": [
    "for dir in dirs:\n",
    "    os.chdir(os.path.join(root, dir))\n",
    "    print('작업 디렉토리' + os.getcwd())    \n",
    "    getFileList()\n",
    "    removeImages()"
   ]
  },
  {
   "cell_type": "code",
   "execution_count": 48,
   "metadata": {},
   "outputs": [
    {
     "name": "stdout",
     "output_type": "stream",
     "text": [
      "없는 이미지 목록들\n"
     ]
    }
   ],
   "source": [
    "print(\"없는 이미지 목록들\")\n",
    "for k in xmlImages:\n",
    "    if not xmlImages[k]:\n",
    "        print(k)"
   ]
  },
  {
   "cell_type": "code",
   "execution_count": null,
   "metadata": {},
   "outputs": [],
   "source": []
  }
 ],
 "metadata": {
  "kernelspec": {
   "display_name": "Python 3 (ipykernel)",
   "language": "python",
   "name": "python3"
  },
  "language_info": {
   "codemirror_mode": {
    "name": "ipython",
    "version": 3
   },
   "file_extension": ".py",
   "mimetype": "text/x-python",
   "name": "python",
   "nbconvert_exporter": "python",
   "pygments_lexer": "ipython3",
   "version": "3.11.3"
  }
 },
 "nbformat": 4,
 "nbformat_minor": 4
}
